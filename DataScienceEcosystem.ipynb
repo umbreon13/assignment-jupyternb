{
 "cells": [
  {
   "cell_type": "markdown",
   "id": "d90f4712",
   "metadata": {},
   "source": [
    "# Data Science Tools and Ecosystem "
   ]
  },
  {
   "cell_type": "markdown",
   "id": "d53e8fcc",
   "metadata": {},
   "source": [
    "In this notebook, Data science tools are summarized."
   ]
  },
  {
   "cell_type": "markdown",
   "id": "247ead29",
   "metadata": {},
   "source": [
    "<b>Objectives:</b>\n",
    "+ List popoular languages in Data Science.\n",
    "+ List common libraries used in Data Science.\n",
    "+ List IDE tools used in Data Science.\n",
    "+ Evaluate arithmetic operations."
   ]
  },
  {
   "cell_type": "markdown",
   "id": "9c8d3bfa",
   "metadata": {},
   "source": [
    "Some of the popular languages that Data Scientists use are:\n",
    " 1. Python.\n",
    " 2. R.\n",
    " 3. Julia.\n"
   ]
  },
  {
   "cell_type": "markdown",
   "id": "8b373371",
   "metadata": {},
   "source": [
    "Some of the commonly used libraries used by Data Scientists include:\n",
    "1. pandas.\n",
    "2. ggplot.\n",
    "3. scikit-learn."
   ]
  },
  {
   "cell_type": "markdown",
   "id": "3dfc4aaf",
   "metadata": {},
   "source": [
    "<table>\n",
    "  <tr>\n",
    "    <b><th>Data Science Tools</th></b>\n",
    "  </tr>\n",
    "  <tr>\n",
    "    <td>Spyder</td>\n",
    "  </tr>\n",
    "  <tr>\n",
    "    <td>RStudio</td>\n",
    "  </tr>\n",
    "  <tr>\n",
    "    <td>Jupyter Notebooks</td>\n",
    "  </tr>\n",
    "</table>"
   ]
  },
  {
   "cell_type": "markdown",
   "id": "00e6955d",
   "metadata": {},
   "source": [
    "<h3>Below are a few examples of evaluating arithmetic expressions in Python</h3>"
   ]
  },
  {
   "cell_type": "code",
   "execution_count": 2,
   "id": "23e4684d",
   "metadata": {},
   "outputs": [
    {
     "data": {
      "text/plain": [
       "17"
      ]
     },
     "execution_count": 2,
     "metadata": {},
     "output_type": "execute_result"
    }
   ],
   "source": [
    "# This is a simple arithmetic expressionto multiply and add integers\n",
    "(3*4)+5"
   ]
  },
  {
   "cell_type": "code",
   "execution_count": 5,
   "id": "49abd4a0",
   "metadata": {},
   "outputs": [
    {
     "name": "stdout",
     "output_type": "stream",
     "text": [
      "200 minutes are 3.33 hours\n"
     ]
    }
   ],
   "source": [
    "# This will convert 200 minutes to hours by dividing by 60\n",
    "hours = 200/60\n",
    "print(f\"200 minutes are {round(hours,2)} hours\")"
   ]
  },
  {
   "cell_type": "markdown",
   "id": "0f725c6d",
   "metadata": {},
   "source": [
    "## Author\n",
    "Alvaro Mejia Garcia"
   ]
  },
  {
   "cell_type": "code",
   "execution_count": null,
   "id": "f812eb5a",
   "metadata": {},
   "outputs": [],
   "source": []
  }
 ],
 "metadata": {
  "kernelspec": {
   "display_name": "Python 3 (ipykernel)",
   "language": "python",
   "name": "python3"
  },
  "language_info": {
   "codemirror_mode": {
    "name": "ipython",
    "version": 3
   },
   "file_extension": ".py",
   "mimetype": "text/x-python",
   "name": "python",
   "nbconvert_exporter": "python",
   "pygments_lexer": "ipython3",
   "version": "3.11.5"
  }
 },
 "nbformat": 4,
 "nbformat_minor": 5
}
